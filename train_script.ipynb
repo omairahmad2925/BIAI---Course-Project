{
  "cells": [
    {
      "cell_type": "code",
      "execution_count": null,
      "metadata": {
        "colab": {
          "base_uri": "https://localhost:8080/"
        },
        "id": "tl6LhJGQQwml",
        "outputId": "5ea4d413-34dc-45fb-89a1-ee17397ba7ee"
      },
      "outputs": [],
      "source": [
        "# Omair Ahmad \n",
        "# This is the training script to fine-tune a pre-trained model YOLO11 on a custom dataset of class pistol."
      ]
    },
    {
      "cell_type": "code",
      "execution_count": null,
      "metadata": {},
      "outputs": [],
      "source": [
        "!pip install ultralytics"
      ]
    },
    {
      "cell_type": "code",
      "execution_count": null,
      "metadata": {
        "colab": {
          "base_uri": "https://localhost:8080/"
        },
        "id": "R3MST3vTQ-DP",
        "outputId": "e59ab830-c34f-4159-ff96-d5abc8c9f269"
      },
      "outputs": [],
      "source": [
        "from ultralytics import YOLO"
      ]
    },
    {
      "cell_type": "code",
      "execution_count": null,
      "metadata": {
        "colab": {
          "base_uri": "https://localhost:8080/"
        },
        "id": "WQ5iqlnDRCkX",
        "outputId": "94624a88-ea9f-4b2a-bcb6-5808185ce10a"
      },
      "outputs": [],
      "source": [
        "from google.colab import drive\n",
        "drive.mount('/content/drive')"
      ]
    },
    {
      "cell_type": "code",
      "execution_count": null,
      "metadata": {
        "colab": {
          "base_uri": "https://localhost:8080/"
        },
        "id": "g7Jij7OQRTKz",
        "outputId": "df05a1b6-3031-4542-f222-84faeee8ea8b"
      },
      "outputs": [],
      "source": [
        "model = YOLO('yolo11n.pt')          # Precision: 0.823, Recall: 0.768, mAP@50: 0.836\n",
        "model = YOLO('yolo11s.pt')          # Precision: 0.900, Recall: 0.670, mAP@50: 0.802\n",
        "model = YOLO('yolo11m.pt')          # Precision: 0.826, Recall: 0.643, mAP@50: 0.737\n",
        "model = YOLO('yolo11l.pt')          # Precision: 0.768, Recall: 0.607, mAP@50: 0.675   \n",
        "model = YOLO('yolo11x.pt')          # Training failed due to OutOfMemoryError"
      ]
    },
    {
      "cell_type": "code",
      "execution_count": null,
      "metadata": {
        "colab": {
          "base_uri": "https://localhost:8080/"
        },
        "id": "tm1jCLqKRc3t",
        "outputId": "72e2c622-258e-48ea-af60-27959fcb63ce"
      },
      "outputs": [],
      "source": [
        "results = model.train(\n",
        "    data='/content/drive/MyDrive/bigData/data.yaml',\n",
        "    epochs=200,\n",
        "    imgsz=640,\n",
        "    device=0\n",
        ")"
      ]
    },
    {
      "cell_type": "code",
      "execution_count": null,
      "metadata": {
        "colab": {
          "base_uri": "https://localhost:8080/"
        },
        "id": "qHLZURPVdZKx",
        "outputId": "a561b324-2e22-45fb-af20-6f50729ad496"
      },
      "outputs": [],
      "source": [
        "import os\n",
        "import glob\n",
        "\n",
        "runs_dir = 'runs/detect'\n",
        "latest_run = max(glob.glob(os.path.join(runs_dir, '*')), key=os.path.getmtime)\n",
        "best_pt_path = os.path.join(latest_run, 'weights', 'best.pt')\n",
        "print(f\"Path to best.pt: {best_pt_path}\")"
      ]
    },
    {
      "cell_type": "code",
      "execution_count": null,
      "metadata": {
        "colab": {
          "base_uri": "https://localhost:8080/",
          "height": 17
        },
        "id": "8-lr16UBd4zv",
        "outputId": "6a5ad31a-d6f7-47e8-b560-b91f2a5277d3"
      },
      "outputs": [],
      "source": [
        "from google.colab import files\n",
        "files.download('/content/runs/detect/train4/weights/best.pt')\n",
        "# Both performance metrics and analysis have been mentioned in the final report.\n",
        "# Link to test demo can be found Demo.txt."
      ]
    }
  ],
  "metadata": {
    "accelerator": "GPU",
    "colab": {
      "gpuType": "T4",
      "provenance": []
    },
    "kernelspec": {
      "display_name": "Python 3",
      "name": "python3"
    },
    "language_info": {
      "name": "python"
    }
  },
  "nbformat": 4,
  "nbformat_minor": 0
}
